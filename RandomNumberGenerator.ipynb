{
 "cells": [
  {
   "cell_type": "code",
   "execution_count": 1,
   "id": "6434350b-e16a-4f8e-89f9-5408d70f6433",
   "metadata": {
    "execution": {
     "iopub.execute_input": "2021-06-02T02:19:43.800157Z",
     "iopub.status.busy": "2021-06-02T02:19:43.798790Z",
     "iopub.status.idle": "2021-06-02T02:19:43.821765Z",
     "shell.execute_reply": "2021-06-02T02:19:43.822789Z"
    },
    "papermill": {
     "duration": 0.040197,
     "end_time": "2021-06-02T02:19:43.822980",
     "exception": false,
     "start_time": "2021-06-02T02:19:43.782783",
     "status": "completed"
    },
    "tags": []
   },
   "outputs": [
    {
     "name": "stdout",
     "output_type": "stream",
     "text": [
      "60\n",
      "83\n",
      "66\n",
      "83\n",
      "31\n",
      "100\n",
      "33\n",
      "42\n",
      "53\n",
      "15\n",
      "23\n",
      "94\n",
      "94\n",
      "75\n",
      "96\n",
      "65\n",
      "66\n",
      "15\n",
      "93\n",
      "44\n",
      "76\n",
      "75\n",
      "83\n",
      "34\n",
      "36\n",
      "89\n",
      "11\n",
      "36\n",
      "67\n",
      "45\n",
      "98\n",
      "77\n",
      "90\n",
      "54\n",
      "83\n",
      "19\n",
      "96\n",
      "65\n",
      "1\n",
      "40\n",
      "95\n",
      "74\n",
      "51\n",
      "95\n",
      "52\n",
      "33\n",
      "91\n",
      "17\n",
      "22\n",
      "47\n",
      "32\n",
      "85\n",
      "98\n",
      "62\n",
      "63\n",
      "8\n",
      "50\n",
      "26\n",
      "97\n",
      "44\n",
      "99\n",
      "85\n",
      "15\n",
      "96\n",
      "29\n",
      "54\n",
      "81\n",
      "38\n",
      "50\n",
      "16\n",
      "76\n",
      "49\n",
      "30\n",
      "41\n",
      "31\n",
      "6\n",
      "20\n",
      "100\n",
      "39\n",
      "64\n",
      "16\n",
      "4\n",
      "14\n",
      "18\n",
      "72\n",
      "5\n",
      "95\n",
      "83\n",
      "100\n",
      "42\n",
      "25\n",
      "16\n",
      "54\n",
      "42\n",
      "85\n",
      "69\n",
      "54\n",
      "56\n",
      "76\n",
      "45\n"
     ]
    }
   ],
   "source": [
    "import random \n",
    "\n",
    "afile = open(\"Random.txt\", \"w\" )\n",
    "\n",
    "for i in range(int(100)):\n",
    "    line = str(random.randint(1, 100))\n",
    "    afile.write(line+\"\\n\")\n",
    "    print(line)\n",
    "\n",
    "afile.close()"
   ]
  },
  {
   "cell_type": "code",
   "execution_count": 2,
   "id": "ff0a312d-cddd-4710-afc7-1c50973f9ca0",
   "metadata": {
    "execution": {
     "iopub.execute_input": "2021-06-02T02:19:43.842897Z",
     "iopub.status.busy": "2021-06-02T02:19:43.841624Z",
     "iopub.status.idle": "2021-06-02T02:19:43.850861Z",
     "shell.execute_reply": "2021-06-02T02:19:43.849773Z"
    },
    "papermill": {
     "duration": 0.020574,
     "end_time": "2021-06-02T02:19:43.851113",
     "exception": false,
     "start_time": "2021-06-02T02:19:43.830539",
     "status": "completed"
    },
    "tags": []
   },
   "outputs": [
    {
     "name": "stdout",
     "output_type": "stream",
     "text": [
      "It is 2021-06-02 04:19:43.839755\n"
     ]
    }
   ],
   "source": [
    "from datetime import datetime\n",
    "\n",
    "print(\"It is {}\".format(datetime.now()))"
   ]
  },
  {
   "cell_type": "code",
   "execution_count": null,
   "id": "901798f0-9a07-4e6a-a9ae-e714aa576236",
   "metadata": {},
   "outputs": [],
   "source": [
    "from datetime import datetime\n",
    "\n",
    "print(\"It is {}\".format(datetime.now()))"
   ]
  },
  {
   "cell_type": "code",
   "execution_count": null,
   "id": "32c9d484-4e09-420e-8a95-79fea0e8b6f0",
   "metadata": {},
   "outputs": [],
   "source": []
  },
  {
   "cell_type": "code",
   "execution_count": null,
   "id": "39d47fae-8733-45e8-9168-dcadb29b922c",
   "metadata": {
    "papermill": {
     "duration": 0.008911,
     "end_time": "2021-06-02T02:19:43.879452",
     "exception": false,
     "start_time": "2021-06-02T02:19:43.870541",
     "status": "completed"
    },
    "tags": []
   },
   "outputs": [],
   "source": []
  },
  {
   "cell_type": "code",
   "execution_count": null,
   "id": "0ab88a39-25b5-4e7f-9cf8-3717ded4ca36",
   "metadata": {
    "papermill": {
     "duration": 0.006015,
     "end_time": "2021-06-02T02:19:43.894013",
     "exception": false,
     "start_time": "2021-06-02T02:19:43.887998",
     "status": "completed"
    },
    "tags": []
   },
   "outputs": [],
   "source": []
  }
 ],
 "metadata": {
  "kernelspec": {
   "display_name": "Python 3",
   "language": "python",
   "name": "python3"
  },
  "language_info": {
   "codemirror_mode": {
    "name": "ipython",
    "version": 3
   },
   "file_extension": ".py",
   "mimetype": "text/x-python",
   "name": "python",
   "nbconvert_exporter": "python",
   "pygments_lexer": "ipython3",
   "version": "3.6.10"
  },
  "papermill": {
   "default_parameters": {},
   "duration": 2.482235,
   "end_time": "2021-06-02T02:19:44.250158",
   "environment_variables": {},
   "exception": null,
   "input_path": "/Users/ruksvaithy/Documents/Projects/jupyterlab_exploration/RandomNumberGenerator.ipynb",
   "output_path": "/Users/ruksvaithy/Documents/Projects/jupyterlab_exploration/RandomNumberGenerator.ipynb",
   "parameters": {},
   "start_time": "2021-06-02T02:19:41.767923",
   "version": "2.3.3"
  },
  "toc-showcode": true
 },
 "nbformat": 4,
 "nbformat_minor": 5
}
